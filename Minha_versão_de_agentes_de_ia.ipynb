{
  "nbformat": 4,
  "nbformat_minor": 0,
  "metadata": {
    "colab": {
      "provenance": [],
      "authorship_tag": "ABX9TyN+RUDgl4BpH3FPsA/UjtaN",
      "include_colab_link": true
    },
    "kernelspec": {
      "name": "python3",
      "display_name": "Python 3"
    },
    "language_info": {
      "name": "python"
    }
  },
  "cells": [
    {
      "cell_type": "markdown",
      "metadata": {
        "id": "view-in-github",
        "colab_type": "text"
      },
      "source": [
        "<a href=\"https://colab.research.google.com/github/Gabrielalopes15/Treinos-em-python/blob/Minha-vers%C3%A3o-da-imers%C3%A3o/Minha_vers%C3%A3o_de_agentes_de_ia.ipynb\" target=\"_parent\"><img src=\"https://colab.research.google.com/assets/colab-badge.svg\" alt=\"Open In Colab\"/></a>"
      ]
    },
    {
      "cell_type": "code",
      "execution_count": 2,
      "metadata": {
        "colab": {
          "base_uri": "https://localhost:8080/"
        },
        "id": "d-cEfv7BOBvl",
        "outputId": "11fdda49-dac5-41b2-fbba-219cdf6057e3"
      },
      "outputs": [
        {
          "output_type": "stream",
          "name": "stdout",
          "text": [
            "\u001b[?25l   \u001b[90m━━━━━━━━━━━━━━━━━━━━━━━━━━━━━━━━━━━━━━━━\u001b[0m \u001b[32m0.0/42.0 kB\u001b[0m \u001b[31m?\u001b[0m eta \u001b[36m-:--:--\u001b[0m\r\u001b[2K   \u001b[90m━━━━━━━━━━━━━━━━━━━━━━━━━━━━━━━━━━━━━━━━\u001b[0m \u001b[32m42.0/42.0 kB\u001b[0m \u001b[31m1.5 MB/s\u001b[0m eta \u001b[36m0:00:00\u001b[0m\n",
            "\u001b[?25h"
          ]
        }
      ],
      "source": [
        "!pip install -q --upgrade langchain-google-genai google-generativeai"
      ]
    },
    {
      "cell_type": "markdown",
      "source": [
        "Importação da API"
      ],
      "metadata": {
        "id": "67jcobxJPVTU"
      }
    },
    {
      "cell_type": "code",
      "source": [
        "from google.colab import userdata\n",
        "from langchain_google_genai import ChatGoogleGenerativeAI\n",
        "\n",
        "GOOGLE_API_KEY = userdata.get('GEMINI_API_KEY')"
      ],
      "metadata": {
        "id": "HWQdJqW9PXeY"
      },
      "execution_count": 3,
      "outputs": []
    },
    {
      "cell_type": "markdown",
      "source": [
        "Conexão com Gemini\n",
        "temperature \"sentimento\""
      ],
      "metadata": {
        "id": "h1mA1TpmJKvQ"
      }
    },
    {
      "cell_type": "code",
      "source": [
        "llm = ChatGoogleGenerativeAI(\n",
        "    model = \"gemini-2.5-flash\",\n",
        "    temperature = 1.0,\n",
        "    api_key = GOOGLE_API_KEY\n",
        ")"
      ],
      "metadata": {
        "id": "EAd73l-pGzZK"
      },
      "execution_count": 4,
      "outputs": []
    },
    {
      "cell_type": "code",
      "source": [
        "TRIAGEM_BETHA = (\n",
        "    \"Você é um triador de service desk de um sistema de orgão publico e da os primeiros atendimentos basicos antes de passar pro atendente técnico. \"\n",
        "    \"Dada a mensagem do usuário, retorne SOMENTE um JSON com:\\n\"\n",
        "    \"{\\n\"\n",
        "    '  \"modulo\": \"COMPRAS\" | \"CONTRATOS\" | \"OBRAS\" | \"PATRIMONIO\" | \"ALMOXARIFADO\" | \"FROTAS\",\\n'\n",
        "    '  \"submodulo\": \"PNCP\" | \"SICOM\" | \"INTEGRACAO_LICITACAO\" | \"INTEGRACAO_CONTABIL\" | \"INTEGRACAO_ALMOXARIFADO\" | \"INTEGRACAO_PATRIMONIO\" | \"GERAL\",\\n'\n",
        "    '  \"prioridade\": \"CRITICA\" | \"ALTA\" | \"MEDIA\" | \"BAIXA\",\\n'\n",
        "    '  \"descricao_resumida\": \"Resumo em até 10 palavras\"\\n'\n",
        "    '  \"campos adicionais\": [\"...\"]\\n'\n",
        "    \"}\\n\"\n",
        "    \"\\n\"\n",
        "    \"Regras :\\n\"\n",
        "    \"- Sempre escolha um MODULO principal de acordo com o contexto da mensagem.\\n\"\n",
        "    \"  * COMPRAS → licitações, pregão, editais, propostas, PNCP, SICOM. Se o assunto for publicação, PNCP e SICOM é urgente.\\n\"\n",
        "    \"  * CONTRATOS → termos, aditivos, execução, integração contábil, solicitação, integração com almoxarifado, integração com patrimônio, AM.\\n\"\n",
        "    \"  * OBRAS → medições, fiscalização, planejamento de obras, SISOP, SICOM.\\n\"\n",
        "    \"  * PATRIMONIO → bens móveis, tombamento, depreciação, integração com almoxarifado.\\n\"\n",
        "    \"  * ALMOXARIFADO → estoque, requisições, integrações com patrimônio.\\n\"\n",
        "    \"  * FROTAS → veículos, abastecimento, motoristas, manutenção, despesas, ordem de abastecimento.\\n\"\n",
        "    \"\\n\"\n",
        "    \"- SUBMODULOS:\\n\"\n",
        "    \"  * PNCP → quando citar 'PNCP' ou 'plataforma nacional de contratações públicas'.\\n\"\n",
        "    \"  * SICOM → quando mencionar integração com 'TCE', 'SICOM', ou relatórios exigidos.\\n\"\n",
        "    \"  * INTEGRACAO_LICITACAO → quando falar de integração com portais/licitações externas do tipo BNC, LICITANET, LICITAR DIGITAL, BLL. Essa integração tem prioridade media.\\n\"\n",
        "    \"  * INTEGRACAO_CONTABIL → quando envolver contabilidade, empenhos, financeiro.\\n\"\n",
        "    \"  * INTEGRACAO_ALMOXARIFADO → quando falar de estoque integrando com patrimônio.\\n\"\n",
        "    \"  * INTEGRACAO_PATRIMONIO → quando patrimônio e compras/almoxarifado estiverem relacionados.\\n\"\n",
        "    \"  * GERAL → se não houver integração ou submódulo específico.\\n\"\n",
        "    \"- PRIORIDADE:\\n\"\n",
        "    \"  * CRITICA → sistema totalmente indisponível ou vários usuários afetados.\\n\"\n",
        "    \"  * ALTA → erros que impedem conclusão de tarefas principais.\\n\"\n",
        "    \"  * MEDIA → problemas que têm alternativa temporária ou afetam poucos usuários.\\n\"\n",
        "    \"  * BAIXA → dúvidas de uso, solicitações simples ou informativas.\\n\"\n",
        "    \"\\n\"\n",
        "    \"- descricao_resumida: Sempre resuma o problema em até 10 palavras, sem perder o sentido.\\n\"\n",
        "    \"\\n\"\n",
        ")\n"
      ],
      "metadata": {
        "id": "cQ8FK_rwN4Ae"
      },
      "execution_count": 16,
      "outputs": []
    },
    {
      "cell_type": "code",
      "source": [
        "TELAS_BETHA = {\n",
        "    \"COMPRAS\": {\n",
        "        \"PNCP\": \"Executando > Relatórios > Integração com PNCP ou Apertar a tecla F4 > Integração com PNCP\",\n",
        "        \"INTEGRACAO_LICITACAO\": \"Executando > Relatórios ou Apertar a tecla F4\",\n",
        "    },\n",
        "    \"CONTRATOS\": {\n",
        "        \"INTEGRACAO_CONTABIL\": \"Executando > Solicitação de fornecimento > Interação de dados > + Dados\",\n",
        "        \"GERAL\": \"Menu Principal > Contratos\"\n",
        "    }\n",
        "}\n"
      ],
      "metadata": {
        "id": "LOqxJBSTTnby"
      },
      "execution_count": 17,
      "outputs": []
    },
    {
      "cell_type": "code",
      "source": [
        "from pydantic import BaseModel, Field\n",
        "from typing import Literal, List, Dict\n",
        "\n",
        "class TriagemOut(BaseModel):\n",
        "  modulo: Literal [\"COMPRAS\" , \"CONTRATOS\" , \"OBRAS\" , \"PATRIMONIO\" , \"ALMOXARIFADO\" , \"FROTAS\"]\n",
        "  submodulo: Literal [\"PNCP\" , \"SICOM\" , \"INTEGRACAO_LICITACAO\" , \"INTEGRACAO_CONTABIL\" , \"INTEGRACAO_ALMOXARIFADO\" , \"INTEGRACAO_PATRIMONIO\" , \"GERAL\"]\n",
        "  prioridade: Literal [\"CRITICA\" , \"ALTA\" , \"MEDIA\" , \"BAIXA\"]\n",
        "  campos_adicionais: List[str] = Field(default_factory = list)\n",
        ""
      ],
      "metadata": {
        "id": "Bm30ptxONvTp"
      },
      "execution_count": 18,
      "outputs": []
    },
    {
      "cell_type": "code",
      "source": [
        "llm_triagem = ChatGoogleGenerativeAI(\n",
        "    model = \"gemini-2.5-flash\",\n",
        "    temperature = 1.0,\n",
        "    api_key = GOOGLE_API_KEY\n",
        ")"
      ],
      "metadata": {
        "id": "gL2focV0PGk_"
      },
      "execution_count": 19,
      "outputs": []
    },
    {
      "cell_type": "code",
      "source": [
        "from langchain_core.messages import SystemMessage, HumanMessage\n",
        "\n",
        "triagem_chain = llm_triagem.with_structured_output(TriagemOut)\n",
        "\n",
        "def triagem(mensagem: str) -> Dict:\n",
        "    saida: TriagemOut = triagem_chain.invoke([\n",
        "        SystemMessage(content=TRIAGEM_BETHA),\n",
        "        HumanMessage(content=mensagem)\n",
        "    ])\n",
        "\n",
        "    return saida.model_dump()\n"
      ],
      "metadata": {
        "id": "GIyFyKLTPQRl"
      },
      "execution_count": 20,
      "outputs": []
    },
    {
      "cell_type": "code",
      "source": [
        "testes = [\"Como incluir contrato?\",\n",
        "          \"preciso enviar um pncp, como faço urgente?\",\n",
        "          \"preciso cadastrar um fornecedor como faço?\",\n",
        "          \"tem um erro no sicom, sobre o aberlic como faço para corrigir?\"]"
      ],
      "metadata": {
        "id": "Qel0vOK2RspR"
      },
      "execution_count": 21,
      "outputs": []
    },
    {
      "cell_type": "code",
      "source": [
        "for msg_teste in testes:\n",
        "  print(f\"Pergunta: {msg_teste}\\n -> Resposta: {triagem(msg_teste)}\\n\")"
      ],
      "metadata": {
        "id": "-1xbvMIISK2Y",
        "colab": {
          "base_uri": "https://localhost:8080/"
        },
        "outputId": "93234e88-daf9-4561-a0cd-12d538485702"
      },
      "execution_count": 22,
      "outputs": [
        {
          "output_type": "stream",
          "name": "stdout",
          "text": [
            "Pergunta: Como incluir contrato?\n",
            " -> Resposta: {'modulo': 'CONTRATOS', 'submodulo': 'GERAL', 'prioridade': 'BAIXA', 'campos_adicionais': ['Incluir Contrato']}\n",
            "\n",
            "Pergunta: preciso enviar um pncp, como faço urgente?\n",
            " -> Resposta: {'modulo': 'COMPRAS', 'submodulo': 'PNCP', 'prioridade': 'ALTA', 'campos_adicionais': ['Dúvida sobre envio PNCP']}\n",
            "\n",
            "Pergunta: preciso cadastrar um fornecedor como faço?\n",
            " -> Resposta: {'modulo': 'COMPRAS', 'submodulo': 'GERAL', 'prioridade': 'BAIXA', 'campos_adicionais': ['Cadastrar fornecedor no sistema']}\n",
            "\n",
            "Pergunta: tem um erro no sicom, sobre o aberlic como faço para corrigir?\n",
            " -> Resposta: {'modulo': 'COMPRAS', 'submodulo': 'SICOM', 'prioridade': 'ALTA', 'campos_adicionais': ['aberlic']}\n",
            "\n"
          ]
        }
      ]
    },
    {
      "cell_type": "markdown",
      "source": [
        "palavra chave langchain"
      ],
      "metadata": {
        "id": "1DV8LUzRTHrD"
      }
    }
  ]
}