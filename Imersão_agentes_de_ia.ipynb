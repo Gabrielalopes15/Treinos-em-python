{
  "nbformat": 4,
  "nbformat_minor": 0,
  "metadata": {
    "colab": {
      "provenance": [],
      "authorship_tag": "ABX9TyMFj+LPB6d2gvw/wpB7mjN2",
      "include_colab_link": true
    },
    "kernelspec": {
      "name": "python3",
      "display_name": "Python 3"
    },
    "language_info": {
      "name": "python"
    }
  },
  "cells": [
    {
      "cell_type": "markdown",
      "metadata": {
        "id": "view-in-github",
        "colab_type": "text"
      },
      "source": [
        "<a href=\"https://colab.research.google.com/github/Gabrielalopes15/Treinos-em-python/blob/main/Imers%C3%A3o_agentes_de_ia.ipynb\" target=\"_parent\"><img src=\"https://colab.research.google.com/assets/colab-badge.svg\" alt=\"Open In Colab\"/></a>"
      ]
    },
    {
      "cell_type": "code",
      "execution_count": 1,
      "metadata": {
        "id": "d-cEfv7BOBvl",
        "colab": {
          "base_uri": "https://localhost:8080/"
        },
        "outputId": "2eac47d5-a40b-400b-9394-885bb934a741"
      },
      "outputs": [
        {
          "output_type": "stream",
          "name": "stdout",
          "text": [
            "\u001b[?25l   \u001b[90m━━━━━━━━━━━━━━━━━━━━━━━━━━━━━━━━━━━━━━━━\u001b[0m \u001b[32m0.0/42.0 kB\u001b[0m \u001b[31m?\u001b[0m eta \u001b[36m-:--:--\u001b[0m\r\u001b[2K   \u001b[90m━━━━━━━━━━━━━━━━━━━━━━━━━━━━━━━━━━━━━━━━\u001b[0m \u001b[32m42.0/42.0 kB\u001b[0m \u001b[31m1.7 MB/s\u001b[0m eta \u001b[36m0:00:00\u001b[0m\n",
            "\u001b[?25h"
          ]
        }
      ],
      "source": [
        "!pip install -q --upgrade langchain-google-genai google-generativeai"
      ]
    },
    {
      "cell_type": "markdown",
      "source": [
        "Importação da API"
      ],
      "metadata": {
        "id": "67jcobxJPVTU"
      }
    },
    {
      "cell_type": "code",
      "source": [
        "from google.colab import userdata\n",
        "from langchain_google_genai import ChatGoogleGenerativeAI\n",
        "\n",
        "GOOGLE_API_KEY = userdata.get('GEMINI_API_KEY')"
      ],
      "metadata": {
        "id": "HWQdJqW9PXeY"
      },
      "execution_count": 2,
      "outputs": []
    },
    {
      "cell_type": "markdown",
      "source": [
        "Conexão com Gemini\n",
        "temperature \"sentimento\""
      ],
      "metadata": {
        "id": "h1mA1TpmJKvQ"
      }
    },
    {
      "cell_type": "code",
      "source": [
        "llm = ChatGoogleGenerativeAI(\n",
        "    model = \"gemini-2.5-flash\",\n",
        "    temperature = 1.0,\n",
        "    api_key = GOOGLE_API_KEY\n",
        ")"
      ],
      "metadata": {
        "id": "EAd73l-pGzZK"
      },
      "execution_count": 3,
      "outputs": []
    },
    {
      "cell_type": "markdown",
      "source": [
        "Primeiro teste"
      ],
      "metadata": {
        "id": "vDF9pDm0JRaz"
      }
    },
    {
      "cell_type": "code",
      "source": [
        "resp_teste = llm.invoke(\"quantos dias de ferias eu tenho?\")\n",
        "print(resp_teste.content)"
      ],
      "metadata": {
        "id": "sDIqE8FyJaom",
        "colab": {
          "base_uri": "https://localhost:8080/"
        },
        "outputId": "42ca358d-201f-4334-bf69-057e50925d33"
      },
      "execution_count": 4,
      "outputs": [
        {
          "output_type": "stream",
          "name": "stdout",
          "text": [
            "Para saber exatamente quantos dias de férias você tem direito, precisamos considerar alguns fatores importantes da legislação brasileira (CLT - Consolidação das Leis do Trabalho).\n",
            "\n",
            "**Regra Geral (CLT):**\n",
            "\n",
            "*   Após cada período de 12 meses de trabalho (chamado de **período aquisitivo**), o trabalhador tem direito a **30 dias corridos de férias**.\n",
            "*   Esse direito é válido para quem não teve mais de 5 faltas injustificadas no período aquisitivo.\n",
            "\n",
            "**Fatores que podem alterar o número de dias de férias:**\n",
            "\n",
            "1.  **Número de Faltas Injustificadas:**\n",
            "    *   Até 5 faltas injustificadas: 30 dias de férias\n",
            "    *   De 6 a 14 faltas injustificadas: 24 dias de férias\n",
            "    *   De 15 a 23 faltas injustificadas: 18 dias de férias\n",
            "    *   De 24 a 32 faltas injustificadas: 12 dias de férias\n",
            "    *   Acima de 32 faltas injustificadas: Perde o direito às férias\n",
            "\n",
            "2.  **Regime de Trabalho em Tempo Parcial:**\n",
            "    *   Para contratos de trabalho em regime de tempo parcial (com jornada de até 25 horas semanais), o número de dias de férias é proporcional à jornada de trabalho, variando de 8 a 18 dias.\n",
            "\n",
            "3.  **Férias Coletivas:**\n",
            "    *   Se a empresa deu férias coletivas e você foi incluído, esses dias são abatidos do seu direito individual.\n",
            "\n",
            "4.  **Fracionamento das Férias:**\n",
            "    *   Desde a reforma trabalhista, as férias podem ser divididas em até 3 períodos, mediante concordância do empregado. Um dos períodos não pode ser inferior a 14 dias corridos, e os demais não podem ser inferiores a 5 dias corridos cada. O total de dias continua sendo o mesmo, mas a forma de usufruir muda.\n",
            "\n",
            "5.  **Período Aquisitivo Incompleto:**\n",
            "    *   Se você ainda não completou 12 meses de trabalho, ainda não \"adquiriu\" o direito às férias integrais.\n",
            "\n",
            "6.  **Outros Regimes (Servidor Público, Estágio):**\n",
            "    *   Se você for servidor público, as regras podem ser ligeiramente diferentes, dependendo da legislação específica (federal, estadual ou municipal).\n",
            "    *   Estagiários têm direito a 30 dias de recesso remunerado a cada 12 meses, preferencialmente durante as férias escolares, mas não são \"férias\" no sentido da CLT.\n",
            "\n",
            "**Para saber *exatamente* quantos dias você tem direito:**\n",
            "\n",
            "O ideal é consultar:\n",
            "\n",
            "*   **O Departamento de Recursos Humanos (RH) ou Departamento Pessoal da sua empresa.** Eles terão o controle do seu período aquisitivo, suas faltas e qualquer outra particularidade do seu contrato.\n",
            "*   **Sua carteira de trabalho digital ou física, e seus contracheques**, para verificar sua data de admissão e períodos trabalhados.\n",
            "\n",
            "Sem essas informações, a resposta mais comum é: **30 dias corridos**, caso você seja um trabalhador CLT e não tenha tido muitas faltas injustificadas.\n"
          ]
        }
      ]
    },
    {
      "cell_type": "markdown",
      "source": [
        "Prompt do sistema - o que fazer"
      ],
      "metadata": {
        "id": "_5PfX395Mfky"
      }
    },
    {
      "cell_type": "code",
      "source": [
        "TRIAGEM_PROMPT = (\n",
        "    \"Você é um triador de Service Desk para políticas internas da empresa CG CODE. \"\n",
        "    \"Dada a mensagem do usuário, retorne SOMENTE um JSON com:\\n\"\n",
        "    \"{\\n\"\n",
        "    '  \"decisao\": \"AUTO_RESOLVER\" | \"PEDIR_INFO\" | \"ABRIR_CHAMADO\",\\n'\n",
        "    '  \"urgencia\": \"BAIXA\" | \"MEDIA\" | \"ALTA\",\\n'\n",
        "    '  \"campos_faltantes\": [\"...\"]\\n'\n",
        "    \"}\\n\"\n",
        "    \"Regras:\\n\"\n",
        "    '- **AUTO_RESOLVER**: Perguntas claras sobre regras ou procedimentos descritos nas políticas (Ex: \"Posso reembolsar a internet do meu home office?\", \"Como funciona a política de alimentação em viagens?\").\\n'\n",
        "    '- **PEDIR_INFO**: Mensagens vagas ou que faltam informações para identificar o tema ou contexto (Ex: \"Preciso de ajuda com uma política\", \"Tenho uma dúvida geral\").\\n'\n",
        "    '- **ABRIR_CHAMADO**: Pedidos de exceção, liberação, aprovação ou acesso especial, ou quando o usuário explicitamente pede para abrir um chamado (Ex: \"Quero exceção para trabalhar 5 dias remoto.\", \"Solicito liberação para anexos externos.\", \"Por favor, abra um chamado para o RH.\").'\n",
        "    \"Analise a mensagem e decida a ação mais apropriada.\"\n",
        ")"
      ],
      "metadata": {
        "id": "tHqsFvjxMlXP"
      },
      "execution_count": 4,
      "outputs": []
    },
    {
      "cell_type": "code",
      "source": [
        "from pydantic import BaseModel, Field\n",
        "from typing import Literal, List, Dict\n",
        "\n",
        "class TriagemOut(BaseModel):\n",
        "  decisao: Literal [\"AUTO_RESOLVER\", \"PEDIR_INFO\",\"ABRIR_CHAMADO\"]\n",
        "  urgencia: Literal [\"BAIXA\", \"MEDIA\", \"ALTA\"]\n",
        "  campos_faltantes: List[str] = Field(default_factory = list)"
      ],
      "metadata": {
        "id": "Bm30ptxONvTp"
      },
      "execution_count": 6,
      "outputs": []
    },
    {
      "cell_type": "code",
      "source": [
        "llm_triagem = ChatGoogleGenerativeAI(\n",
        "    model = \"gemini-2.5-flash\",\n",
        "    temperature = 1.0,\n",
        "    api_key = GOOGLE_API_KEY\n",
        ")"
      ],
      "metadata": {
        "id": "gL2focV0PGk_"
      },
      "execution_count": 7,
      "outputs": []
    },
    {
      "cell_type": "code",
      "source": [
        "from langchain_core.messages import SystemMessage, HumanMessage\n",
        "\n",
        "triagem_chain = llm_triagem.with_structured_output(TriagemOut)\n",
        "\n",
        "def triagem(mensagem: str) -> Dict:\n",
        "    saida: TriagemOut = triagem_chain.invoke([\n",
        "        SystemMessage(content=TRIAGEM_PROMPT),\n",
        "        HumanMessage(content=mensagem)\n",
        "    ])\n",
        "\n",
        "\n",
        "    return saida.model_dump()\n"
      ],
      "metadata": {
        "id": "GIyFyKLTPQRl"
      },
      "execution_count": 8,
      "outputs": []
    },
    {
      "cell_type": "code",
      "source": [
        "testes = [\"Posso reembolsar a internet?\",\n",
        "          \"quero ter mais cinco dias remoto, como faço?\",\n",
        "          \"quantas capivaras tem no rio pinheiro?\"]"
      ],
      "metadata": {
        "id": "Qel0vOK2RspR"
      },
      "execution_count": 9,
      "outputs": []
    },
    {
      "cell_type": "code",
      "source": [
        "for msg_teste in testes:\n",
        "  print(f\"Pergunta: {msg_teste}\\n -> Resposta: {triagem(msg_teste)}\\n\")"
      ],
      "metadata": {
        "id": "-1xbvMIISK2Y",
        "colab": {
          "base_uri": "https://localhost:8080/"
        },
        "outputId": "1ec35288-5d67-4eed-e76a-1b9251dea8c1"
      },
      "execution_count": 10,
      "outputs": [
        {
          "output_type": "stream",
          "name": "stdout",
          "text": [
            "Pergunta: Posso reembolsar a internet?\n",
            " -> Resposta: {'decisao': 'AUTO_RESOLVER', 'urgencia': 'BAIXA', 'campos_faltantes': []}\n",
            "\n",
            "Pergunta: quero ter mais cinco dias remoto, como faço?\n",
            " -> Resposta: {'decisao': 'ABRIR_CHAMADO', 'urgencia': 'MEDIA', 'campos_faltantes': []}\n",
            "\n",
            "Pergunta: quantas capivaras tem no rio pinheiro?\n",
            " -> Resposta: {'decisao': 'PEDIR_INFO', 'urgencia': 'BAIXA', 'campos_faltantes': ['informação sobre a política ou procedimento interno']}\n",
            "\n"
          ]
        }
      ]
    },
    {
      "cell_type": "markdown",
      "source": [
        "palavra chave langchain"
      ],
      "metadata": {
        "id": "1DV8LUzRTHrD"
      }
    },
    {
      "cell_type": "markdown",
      "source": [
        "#aula 2"
      ],
      "metadata": {
        "id": "4N0VJvQzrcFb"
      }
    },
    {
      "cell_type": "markdown",
      "source": [
        "criando rag\n",
        "-biblioteca com documentos\n",
        "-buscar a informação\n",
        "-melhorar a resposta"
      ],
      "metadata": {
        "id": "9MvTBkYGrx4z"
      }
    },
    {
      "cell_type": "code",
      "source": [
        "!pip install -q --upgrade langchain_community faiss-cpu langchain-text-splitters pymupdf"
      ],
      "metadata": {
        "id": "xuyBlTe4q8dU"
      },
      "execution_count": 12,
      "outputs": []
    },
    {
      "cell_type": "code",
      "source": [
        "from pathlib import Path\n",
        "from langchain_community.document_loaders import PyMuPDFLoader\n",
        "\n",
        "docs = []\n",
        "\n",
        "for n in Path(\"/content/\").glob(\"*.pdf\"):\n",
        "  try:\n",
        "    loader = PyMuPDFLoader(str(n))\n",
        "\n",
        "    docs.extend(loader.load())\n",
        "    print(f\"Carregado com sucesso arquivo {n.name}\")\n",
        "\n",
        "  except Exception as e:\n",
        "    print(f\"Erro ao carregar arquivo {n.name}: {e}\")\n",
        "\n",
        "print(f\"Total de documentos carregados: {len(docs)}\")"
      ],
      "metadata": {
        "colab": {
          "base_uri": "https://localhost:8080/"
        },
        "id": "rymz0TNKjFa-",
        "outputId": "f1d6bfa1-63ca-4738-b5d6-acc68e86d426"
      },
      "execution_count": 16,
      "outputs": [
        {
          "output_type": "stream",
          "name": "stdout",
          "text": [
            "Carregado com sucesso arquivo Política de Uso de E-mail e Segurança da Informação.pdf\n",
            "Carregado com sucesso arquivo Política de Reembolsos (Viagens e Despesas).pdf\n",
            "Carregado com sucesso arquivo Políticas de Home Office.pdf\n",
            "Total de documentos carregados: 3\n"
          ]
        }
      ]
    },
    {
      "cell_type": "code",
      "source": [
        "from langchain_text_splitters import RecursiveCharacterTextSplitter\n",
        "\n",
        "splitter = RecursiveCharacterTextSplitter(chunk_size = 300, chunk_overlap = 30)\n",
        "chunks = splitter.split_documents(docs)"
      ],
      "metadata": {
        "id": "0UZj_JoCmMUx"
      },
      "execution_count": 17,
      "outputs": []
    },
    {
      "cell_type": "code",
      "source": [
        "chunks"
      ],
      "metadata": {
        "id": "AS2PbR5-ncQX"
      },
      "execution_count": null,
      "outputs": []
    },
    {
      "cell_type": "code",
      "source": [
        "for chunk in chunks:\n",
        "  print(chunk)\n",
        "  print(\"___________________________\")"
      ],
      "metadata": {
        "colab": {
          "base_uri": "https://localhost:8080/"
        },
        "id": "oMQypxi1nvpg",
        "outputId": "026ef4b5-d63e-444c-c1a1-ee75d58c3ee9"
      },
      "execution_count": 19,
      "outputs": [
        {
          "output_type": "stream",
          "name": "stdout",
          "text": [
            "page_content='Política de Uso de E-mail e Segurança da Informação \n",
            "1.​ É proibido encaminhar a endereços pessoais documentos classificados como \n",
            "confidenciais.​\n",
            " \n",
            "2.​ Anexos externos devem ser enviados somente se criptografados e com senha \n",
            "compartilhada por canal seguro.​' metadata={'producer': 'Skia/PDF m141 Google Docs Renderer', 'creator': '', 'creationdate': '', 'source': '/content/Política de Uso de E-mail e Segurança da Informação.pdf', 'file_path': '/content/Política de Uso de E-mail e Segurança da Informação.pdf', 'total_pages': 1, 'format': 'PDF 1.4', 'title': 'Política de Uso de E-mail e Segurança da Informação', 'author': '', 'subject': '', 'keywords': '', 'moddate': '', 'trapped': '', 'modDate': '', 'creationDate': '', 'page': 0}\n",
            "___________________________\n",
            "page_content='3.​ Phishing: verificar remetente e denunciar suspeitos. Reporte mensagens suspeitas \n",
            "diretamente ao Suporte imediatamente.​\n",
            " \n",
            "4.​ Retenção: mensagens que contenham dados pessoais devem seguir as diretrizes \n",
            "de retenção definidas pela equipe de Privacidade.​' metadata={'producer': 'Skia/PDF m141 Google Docs Renderer', 'creator': '', 'creationdate': '', 'source': '/content/Política de Uso de E-mail e Segurança da Informação.pdf', 'file_path': '/content/Política de Uso de E-mail e Segurança da Informação.pdf', 'total_pages': 1, 'format': 'PDF 1.4', 'title': 'Política de Uso de E-mail e Segurança da Informação', 'author': '', 'subject': '', 'keywords': '', 'moddate': '', 'trapped': '', 'modDate': '', 'creationDate': '', 'page': 0}\n",
            "___________________________\n",
            "page_content='5.​ Solicitações de exceção de anexos ou domínios devem ser abertas por \n",
            "chamado, com justificativa do gestor.​\n",
            "​' metadata={'producer': 'Skia/PDF m141 Google Docs Renderer', 'creator': '', 'creationdate': '', 'source': '/content/Política de Uso de E-mail e Segurança da Informação.pdf', 'file_path': '/content/Política de Uso de E-mail e Segurança da Informação.pdf', 'total_pages': 1, 'format': 'PDF 1.4', 'title': 'Política de Uso de E-mail e Segurança da Informação', 'author': '', 'subject': '', 'keywords': '', 'moddate': '', 'trapped': '', 'modDate': '', 'creationDate': '', 'page': 0}\n",
            "___________________________\n",
            "page_content='Política de Reembolsos (Viagens e Despesas) \n",
            "1.​ Reembolso: requer nota fiscal e deve ser submetido em até 10 dias corridos após a \n",
            "despesa.​\n",
            " \n",
            "2.​ Alimentação em viagem: limite de R$ 70/dia por pessoa. Bebidas alcoólicas não \n",
            "são reembolsáveis.​' metadata={'producer': 'Skia/PDF m141 Google Docs Renderer', 'creator': '', 'creationdate': '', 'source': '/content/Política de Reembolsos (Viagens e Despesas).pdf', 'file_path': '/content/Política de Reembolsos (Viagens e Despesas).pdf', 'total_pages': 1, 'format': 'PDF 1.4', 'title': 'Política de Reembolsos (Viagens e Despesas)', 'author': '', 'subject': '', 'keywords': '', 'moddate': '', 'trapped': '', 'modDate': '', 'creationDate': '', 'page': 0}\n",
            "___________________________\n",
            "page_content='são reembolsáveis.​\n",
            " \n",
            "3.​ Transporte: táxi/app são permitidos quando não houver alternativa viável. \n",
            "Comprovantes obrigatórios.​\n",
            " \n",
            "4.​ Internet para home office: reembolsável via subsídio mensal de até R$ 100, \n",
            "conforme política de Home Office.​' metadata={'producer': 'Skia/PDF m141 Google Docs Renderer', 'creator': '', 'creationdate': '', 'source': '/content/Política de Reembolsos (Viagens e Despesas).pdf', 'file_path': '/content/Política de Reembolsos (Viagens e Despesas).pdf', 'total_pages': 1, 'format': 'PDF 1.4', 'title': 'Política de Reembolsos (Viagens e Despesas)', 'author': '', 'subject': '', 'keywords': '', 'moddate': '', 'trapped': '', 'modDate': '', 'creationDate': '', 'page': 0}\n",
            "___________________________\n",
            "page_content='5.​ Cursos e certificações: exigem aprovação prévia do gestor e orçamento do time.​\n",
            " \n",
            "6.​ Custos excepcionais (ex.: franquia de bagagem extra): devem ser justificados no \n",
            "chamado e aprovados antes da compra.' metadata={'producer': 'Skia/PDF m141 Google Docs Renderer', 'creator': '', 'creationdate': '', 'source': '/content/Política de Reembolsos (Viagens e Despesas).pdf', 'file_path': '/content/Política de Reembolsos (Viagens e Despesas).pdf', 'total_pages': 1, 'format': 'PDF 1.4', 'title': 'Política de Reembolsos (Viagens e Despesas)', 'author': '', 'subject': '', 'keywords': '', 'moddate': '', 'trapped': '', 'modDate': '', 'creationDate': '', 'page': 0}\n",
            "___________________________\n",
            "page_content='Políticas de Home Office \n",
            "1.​ A empresa adota modelo híbrido: mínimo de 2 dias presenciais por semana, salvo \n",
            "exceções aprovadas pelo gestor e RH.​\n",
            " \n",
            "2.​ Equipamentos: a empresa fornece notebook e periféricos. O colaborador é \n",
            "responsável por zelar pela conservação.​' metadata={'producer': 'Skia/PDF m141 Google Docs Renderer', 'creator': '', 'creationdate': '', 'source': '/content/Políticas de Home Office.pdf', 'file_path': '/content/Políticas de Home Office.pdf', 'total_pages': 1, 'format': 'PDF 1.4', 'title': 'Políticas de Home Office', 'author': '', 'subject': '', 'keywords': '', 'moddate': '', 'trapped': '', 'modDate': '', 'creationDate': '', 'page': 0}\n",
            "___________________________\n",
            "page_content='3.​ Segurança: é obrigatório uso de VPN e bloqueio de tela. Documentos confidenciais \n",
            "não devem ser impressos fora do escritório.​\n",
            " \n",
            "4.​ Ergonomia: recomendamos cadeira adequada e suporte de monitor. O RH pode \n",
            "avaliar solicitação de apoio ergonômico.​' metadata={'producer': 'Skia/PDF m141 Google Docs Renderer', 'creator': '', 'creationdate': '', 'source': '/content/Políticas de Home Office.pdf', 'file_path': '/content/Políticas de Home Office.pdf', 'total_pages': 1, 'format': 'PDF 1.4', 'title': 'Políticas de Home Office', 'author': '', 'subject': '', 'keywords': '', 'moddate': '', 'trapped': '', 'modDate': '', 'creationDate': '', 'page': 0}\n",
            "___________________________\n",
            "page_content='5.​ Conectividade: há subsídio mensal de internet domiciliar para quem trabalha em \n",
            "home office, até R$ 100/mês, mediante nota fiscal nominal.​\n",
            " \n",
            "Solicitação de exceção (ex.: 4-5 dias remotos): deve ser formalizada via chamado ao RH \n",
            "com justificativa do gestor.' metadata={'producer': 'Skia/PDF m141 Google Docs Renderer', 'creator': '', 'creationdate': '', 'source': '/content/Políticas de Home Office.pdf', 'file_path': '/content/Políticas de Home Office.pdf', 'total_pages': 1, 'format': 'PDF 1.4', 'title': 'Políticas de Home Office', 'author': '', 'subject': '', 'keywords': '', 'moddate': '', 'trapped': '', 'modDate': '', 'creationDate': '', 'page': 0}\n",
            "___________________________\n"
          ]
        }
      ]
    },
    {
      "cell_type": "code",
      "source": [
        "from langchain_google_genai import GoogleGenerativeAIEmbeddings\n",
        "embeddings = GoogleGenerativeAIEmbeddings(\n",
        "    model = \"models/gemini-embedding-001\",\n",
        "    google_api_key = GOOGLE_API_KEY\n",
        ")"
      ],
      "metadata": {
        "id": "kcZCq1GxqfuR"
      },
      "execution_count": 23,
      "outputs": []
    },
    {
      "cell_type": "code",
      "source": [
        "from langchain_community.vectorstores import FAISS\n",
        "\n",
        "vectorstores = FAISS.from_documents(chunks, embeddings)"
      ],
      "metadata": {
        "id": "zj9DCTe_rQOT"
      },
      "execution_count": 24,
      "outputs": []
    },
    {
      "cell_type": "code",
      "source": [
        "retriever = vectorstores.as_retriever(search_type =\"similarity_score_threshold\",\n",
        "                                      search_kwargs = {\"score_threshold\":0.3, \"k\": 4})"
      ],
      "metadata": {
        "id": "JOf_cgpXro5o"
      },
      "execution_count": 26,
      "outputs": []
    },
    {
      "cell_type": "markdown",
      "source": [
        "palavra chave chunks"
      ],
      "metadata": {
        "id": "HHVXfDyeuOIf"
      }
    },
    {
      "cell_type": "code",
      "source": [
        "from langchain_core.prompts import ChatPromptTemplate\n",
        "from langchain.chains.combine_documents import create_stuff_documents_chain\n",
        "\n",
        "prompt_rag = ChatPromptTemplate.from_messages([\n",
        "   (\"system\",\n",
        "     \"Você é um Assistente de Políticas Internas (RH/IT) da empresa Carraro Desenvolvimento. \"\n",
        "     \"Responda SOMENTE com base no contexto fornecido. \"\n",
        "     \"Se não houver base suficiente, responda apenas 'Não sei'.\"),\n",
        "\n",
        "    (\"human\", \"Pergunta: {input}\\n\\nContexto:\\n{context}\")\n",
        "])\n",
        "\n",
        "document_chain = create_stuff_documents_chain(llm_triagem, prompt_rag)\n",
        "\n"
      ],
      "metadata": {
        "id": "is1VCcVOuKbh"
      },
      "execution_count": 28,
      "outputs": []
    },
    {
      "cell_type": "code",
      "source": [
        "# Formatadores\n",
        "import re, pathlib\n",
        "\n",
        "def _clean_text(s: str) -> str:\n",
        "    return re.sub(r\"\\s+\", \" \", s or \"\").strip()\n",
        "\n",
        "def extrair_trecho(texto: str, query: str, janela: int = 240) -> str:\n",
        "    txt = _clean_text(texto)\n",
        "    termos = [t.lower() for t in re.findall(r\"\\w+\", query or \"\") if len(t) >= 4]\n",
        "    pos = -1\n",
        "    for t in termos:\n",
        "        pos = txt.lower().find(t)\n",
        "        if pos != -1: break\n",
        "    if pos == -1: pos = 0\n",
        "    ini, fim = max(0, pos - janela//2), min(len(txt), pos + janela//2)\n",
        "    return txt[ini:fim]\n",
        "\n",
        "def formatar_citacoes(docs_rel: List, query: str) -> List[Dict]:\n",
        "    cites, seen = [], set()\n",
        "    for d in docs_rel:\n",
        "        src = pathlib.Path(d.metadata.get(\"source\",\"\")).name\n",
        "        page = int(d.metadata.get(\"page\", 0)) + 1\n",
        "        key = (src, page)\n",
        "        if key in seen:\n",
        "            continue\n",
        "        seen.add(key)\n",
        "        cites.append({\"documento\": src, \"pagina\": page, \"trecho\": extrair_trecho(d.page_content, query)})\n",
        "    return cites[:3]"
      ],
      "metadata": {
        "id": "wCtVaB4k0ykq"
      },
      "execution_count": 43,
      "outputs": []
    },
    {
      "cell_type": "code",
      "source": [
        "def perguntar_politica_RAG(pergunta: str) -> Dict:\n",
        "    docs_relacionados = retriever.invoke(pergunta)\n",
        "\n",
        "    if not docs_relacionados:\n",
        "        return {\"answer\": \"Não sei.\",\n",
        "                \"citacoes\": [],\n",
        "                \"contexto_encontrado\": False}\n",
        "\n",
        "    answer = document_chain.invoke({\"input\": pergunta,\n",
        "                                    \"context\": docs_relacionados})\n",
        "\n",
        "    txt = (answer or \"\").strip()\n",
        "\n",
        "    if txt.rstrip(\".!?\") == \"Não sei\":\n",
        "        return {\"answer\": \"Não sei.\",\n",
        "                \"citacoes\": [],\n",
        "                \"contexto_encontrado\": False}\n",
        "\n",
        "    return {\"answer\": txt,\n",
        "            \"citacoes\": formatar_citacoes(docs_relacionados, pergunta),\n",
        "            \"contexto_encontrado\": True}"
      ],
      "metadata": {
        "id": "hC6O0o5DwQ4a"
      },
      "execution_count": 40,
      "outputs": []
    },
    {
      "cell_type": "code",
      "source": [
        "testes = [\"Posso reembolsar a internet?\",\n",
        "          \"quero ter mais cinco dias remoto, como faço?\",\n",
        "          \"quantas capivaras tem no rio pinheiro?\"]"
      ],
      "metadata": {
        "id": "GDND7CzcytoT"
      },
      "execution_count": 41,
      "outputs": []
    },
    {
      "cell_type": "code",
      "source": [
        "for msg_teste in testes:\n",
        "  resposta = perguntar_politica_RAG(msg_teste)\n",
        "  print(f\"Pergunta:{msg_teste}\")\n",
        "  print(f\"Resposta: {resposta['answer']}\")\n",
        "  if resposta ['contexto_encontrado']:\n",
        "    print(\"Citacoes:\")\n",
        "    print(resposta['citacoes'])\n",
        "    print(\"_________________________________________________\")"
      ],
      "metadata": {
        "colab": {
          "base_uri": "https://localhost:8080/"
        },
        "id": "9oPO5gm2yyH1",
        "outputId": "424b9966-066b-4660-c221-66d1b5d8f695"
      },
      "execution_count": 44,
      "outputs": [
        {
          "output_type": "stream",
          "name": "stdout",
          "text": [
            "Pergunta:Posso reembolsar a internet?\n",
            "Resposta: Sim, a internet para home office é reembolsável via subsídio mensal de até R$ 100, mediante nota fiscal nominal.\n",
            "Citacoes:\n",
            "[{'documento': 'Política de Reembolsos (Viagens e Despesas).pdf', 'pagina': 1, 'trecho': 'lsáveis.\\u200b 3.\\u200b Transporte: táxi/app são permitidos quando não houver alternativa viável. Comprovantes obrigatórios.\\u200b 4.\\u200b Internet para home office: reembolsável via subsídio mensal de até R$ 100, conforme política de Home Office.\\u200b'}, {'documento': 'Políticas de Home Office.pdf', 'pagina': 1, 'trecho': '5.\\u200b Conectividade: há subsídio mensal de internet domiciliar para quem trabalha em home office, até R$ 100/mês, mediante nota fiscal nominal.\\u200b Solicitação de exc'}]\n",
            "_________________________________________________\n",
            "Pergunta:quero ter mais cinco dias remoto, como faço?\n",
            "Resposta: Para ter mais cinco dias remoto, você deve formalizar a solicitação via chamado ao RH, incluindo a justificativa do seu gestor.\n",
            "Citacoes:\n",
            "[{'documento': 'Políticas de Home Office.pdf', 'pagina': 1, 'trecho': 'liar para quem trabalha em home office, até R$ 100/mês, mediante nota fiscal nominal.\\u200b Solicitação de exceção (ex.: 4-5 dias remotos): deve ser formalizada via chamado ao RH com justificativa do gestor.'}, {'documento': 'Política de Reembolsos (Viagens e Despesas).pdf', 'pagina': 1, 'trecho': 'são reembolsáveis.\\u200b 3.\\u200b Transporte: táxi/app são permitidos quando não houver alternativa viável. Comprovantes obrigatór'}, {'documento': 'Política de Uso de E-mail e Segurança da Informação.pdf', 'pagina': 1, 'trecho': '5.\\u200b Solicitações de exceção de anexos ou domínios devem ser abertas por chamado, com justificativa do gestor.\\u200b \\u200b'}]\n",
            "_________________________________________________\n",
            "Pergunta:quantas capivaras tem no rio pinheiro?\n",
            "Resposta: Não sei.\n"
          ]
        }
      ]
    }
  ]
}