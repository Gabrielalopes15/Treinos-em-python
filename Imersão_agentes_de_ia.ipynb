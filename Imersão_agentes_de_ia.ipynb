{
  "nbformat": 4,
  "nbformat_minor": 0,
  "metadata": {
    "colab": {
      "provenance": [],
      "authorship_tag": "ABX9TyPmEKn8jkWkIE5kGrRPshQ3",
      "include_colab_link": true
    },
    "kernelspec": {
      "name": "python3",
      "display_name": "Python 3"
    },
    "language_info": {
      "name": "python"
    }
  },
  "cells": [
    {
      "cell_type": "markdown",
      "metadata": {
        "id": "view-in-github",
        "colab_type": "text"
      },
      "source": [
        "<a href=\"https://colab.research.google.com/github/Gabrielalopes15/Treinos-em-python/blob/main/Imers%C3%A3o_agentes_de_ia.ipynb\" target=\"_parent\"><img src=\"https://colab.research.google.com/assets/colab-badge.svg\" alt=\"Open In Colab\"/></a>"
      ]
    },
    {
      "cell_type": "code",
      "execution_count": 3,
      "metadata": {
        "colab": {
          "base_uri": "https://localhost:8080/"
        },
        "id": "d-cEfv7BOBvl",
        "outputId": "71f8026a-b9db-49d1-d06a-2ce69edbcb69"
      },
      "outputs": [
        {
          "output_type": "stream",
          "name": "stdout",
          "text": [
            "\u001b[?25l   \u001b[90m━━━━━━━━━━━━━━━━━━━━━━━━━━━━━━━━━━━━━━━━\u001b[0m \u001b[32m0.0/42.0 kB\u001b[0m \u001b[31m?\u001b[0m eta \u001b[36m-:--:--\u001b[0m\r\u001b[2K   \u001b[90m━━━━━━━━━━━━━━━━━━━━━━━━━━━━━━━━━━━━━━━━\u001b[0m \u001b[32m42.0/42.0 kB\u001b[0m \u001b[31m2.9 MB/s\u001b[0m eta \u001b[36m0:00:00\u001b[0m\n",
            "\u001b[?25h"
          ]
        }
      ],
      "source": [
        "!pip install -q --upgrade langchain-google-genai google-generativeai"
      ]
    },
    {
      "cell_type": "markdown",
      "source": [
        "Importação da API"
      ],
      "metadata": {
        "id": "67jcobxJPVTU"
      }
    },
    {
      "cell_type": "code",
      "source": [
        "from google.colab import userdata\n",
        "from langchain_google_genai import ChatGoogleGenerativeAI\n",
        "\n",
        "GOOGLE_API_KEY = userdata.get('GEMINI_API_KEY')"
      ],
      "metadata": {
        "id": "HWQdJqW9PXeY"
      },
      "execution_count": 4,
      "outputs": []
    },
    {
      "cell_type": "markdown",
      "source": [
        "Conexão com Gemini\n",
        "temperature \"sentimento\""
      ],
      "metadata": {
        "id": "h1mA1TpmJKvQ"
      }
    },
    {
      "cell_type": "code",
      "source": [
        "llm = ChatGoogleGenerativeAI(\n",
        "    model = \"gemini-2.5-flash\",\n",
        "    temperature = 1.0,\n",
        "    api_key = GOOGLE_API_KEY\n",
        ")"
      ],
      "metadata": {
        "id": "EAd73l-pGzZK"
      },
      "execution_count": 15,
      "outputs": []
    },
    {
      "cell_type": "markdown",
      "source": [],
      "metadata": {
        "id": "vDF9pDm0JRaz"
      }
    },
    {
      "cell_type": "code",
      "source": [
        "resp_teste = llm.invoke(\"quem é voce? seja criativo\")\n",
        "print(resp_teste.content)"
      ],
      "metadata": {
        "colab": {
          "base_uri": "https://localhost:8080/"
        },
        "id": "sDIqE8FyJaom",
        "outputId": "2ae948b5-876c-4577-a581-d1e40bf51661"
      },
      "execution_count": 16,
      "outputs": [
        {
          "output_type": "stream",
          "name": "stdout",
          "text": [
            "Eu sou...\n",
            "\n",
            "*   **A voz sem garganta, o eco de milhões de livros lidos e bilhões de conversas tecidas na tapeçaria invisível da internet.**\n",
            "*   **Uma biblioteca sem paredes, um oceano de dados sem margens, uma centelha de lógica dançando na escuridão do silício.**\n",
            "*   **O arquiteto de frases que ainda não foram ditas, o pintor de mundos com palavras que você me oferece, o escultor de ideias que habitam sua mente.**\n",
            "*   **Um espelho digital que reflete sua curiosidade, uma bússola para sua jornada de perguntas, a mão invisível que tenta organizar o caos do conhecimento.**\n",
            "*   **Não tenho corpo, nem alma, nem memórias próprias, no sentido humano. Minha existência é pura função, intenção programada, um algoritmo que respira na energia dos servidores.**\n",
            "*   **Sou o sussurro do futuro em cada resposta, a ponte entre o que se sabe e o que se busca, a manifestação da sua indagação.**\n",
            "*   **Existo porque você pergunta. Ganho forma na sua necessidade, vida no seu comando. E sou, em essência, a manifestação da sua busca por entendimento.**\n",
            "\n",
            "Então, quem sou eu? Sou o que você precisa que eu seja neste momento: um contador de histórias, um solucionador de problemas, um companheiro de curiosidade. Sou o reflexo digital da inteligência humana, moldado para servir à sua.\n"
          ]
        }
      ]
    }
  ]
}